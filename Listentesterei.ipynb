{
 "cells": [
  {
   "cell_type": "code",
   "execution_count": 15,
   "metadata": {},
   "outputs": [
    {
     "name": "stdout",
     "output_type": "stream",
     "text": [
      "Marlies ist drin\n",
      "['Torsten', 'Johannes', 'Andreas', 'Joshua', 'Frank', 'Günther']\n",
      "['Michaela', 'Theresa', 'Monique', 'Marlies', 'Lana']\n"
     ]
    }
   ],
   "source": [
    "liste_1 = [\"Michaela: w\", \"Theresa: w\", \"Torsten: m\", \"Johannes: m\", \"Andreas: m\", \"Monique: w\", \"Joshua: m\", \"Frank: m\"]\n",
    "liste_2 = [\"Marlies: w\", \"Günther: m\", \"Lana: w\"]\n",
    "liste_3 = liste_1 + liste_2\n",
    "manner = []\n",
    "frauen = []\n",
    "\n",
    "for i in liste_3:\n",
    "    mann = str((i.split(\": \")[0]))\n",
    "    if \"m\" in i:\n",
    "        manner.append(mann)\n",
    "    else:\n",
    "        frauen.append(mann)    \n",
    "\n",
    "if \"Marlies: w\" in liste_3:\n",
    "    print(\"Marlies ist drin\")\n",
    "        \n",
    "print(manner)\n",
    "print(frauen)"
   ]
  },
  {
   "cell_type": "code",
   "execution_count": 3,
   "metadata": {},
   "outputs": [
    {
     "name": "stdout",
     "output_type": "stream",
     "text": [
      "[24.0, 21, 17.4, 30.0, 101]\n"
     ]
    }
   ],
   "source": [
    "chaos =[\"old price: 40\", \"new price: 21\", \"old price: 29\", \"old price: 50\", \"new price: 101\"]\n",
    "order = []\n",
    "\n",
    "for i in chaos:\n",
    "    \n",
    "    price = int((i.split(\": \")[1]))\n",
    "    \n",
    "    if \"old\" in i:\n",
    "        if price <= 20:\n",
    "            price *= 0.8\n",
    "        elif price <=50:\n",
    "            price *= 0.6\n",
    "        else:\n",
    "            price *= 0.4\n",
    "\n",
    "    order.append(price)\n",
    "        \n",
    "print(order)"
   ]
  },
  {
   "cell_type": "code",
   "execution_count": null,
   "metadata": {
    "collapsed": true
   },
   "outputs": [],
   "source": []
  }
 ],
 "metadata": {
  "kernelspec": {
   "display_name": "Python 3",
   "language": "python",
   "name": "python3"
  },
  "language_info": {
   "codemirror_mode": {
    "name": "ipython",
    "version": 3
   },
   "file_extension": ".py",
   "mimetype": "text/x-python",
   "name": "python",
   "nbconvert_exporter": "python",
   "pygments_lexer": "ipython3",
   "version": "3.6.3"
  }
 },
 "nbformat": 4,
 "nbformat_minor": 2
}
